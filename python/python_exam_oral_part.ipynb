{
 "cells": [
  {
   "cell_type": "code",
   "execution_count": 21,
   "metadata": {},
   "outputs": [
    {
     "name": "stdout",
     "output_type": "stream",
     "text": [
      "[1, 2, 3, 4] <class 'list'>\n",
      "[8, 4, 5, 7] <class 'list'>\n",
      "<class 'int'>\n",
      "[4]\n"
     ]
    }
   ],
   "source": [
    "c=[]\n",
    "a={1,2,3,4}\n",
    "b={5,4,7,8}\n",
    "\n",
    "a=list(a)\n",
    "b=list(b)\n",
    "\n",
    "print(a,type(a))\n",
    "print(b,type(b))\n",
    "\n",
    "print(type(len(a)))\n",
    "aa=len(a)\n",
    "bb=len(b)\n",
    "\n",
    "for i in range (aa):\n",
    "    for j in range (bb):\n",
    "        if a[i]==b[j]:\n",
    "         tmp=b[j]\n",
    "         c.append(tmp)\n",
    "            \n",
    "print(c)\n",
    "    "
   ]
  },
  {
   "cell_type": "code",
   "execution_count": 105,
   "metadata": {},
   "outputs": [
    {
     "name": "stdout",
     "output_type": "stream",
     "text": [
      "0 1\n",
      "1 2\n",
      "2 3\n",
      "3 4\n",
      "[4]\n"
     ]
    }
   ],
   "source": [
    "c=[]\n",
    "a={1,2,3,4}\n",
    "b={5,4,7,8}\n",
    "\n",
    "a=list(a)\n",
    "b=list(b)\n",
    "\n",
    "#aa=len(a)\n",
    "#bb=len(b)\n",
    "\n",
    "for i,v in enumerate(a):\n",
    "    print(i,v)\n",
    "    if v in b:\n",
    "        \n",
    "        c.append(v)\n",
    "print(c)\n",
    "        \n",
    "        \n"
   ]
  },
  {
   "cell_type": "code",
   "execution_count": 103,
   "metadata": {},
   "outputs": [
    {
     "name": "stdout",
     "output_type": "stream",
     "text": [
      "<function g.<locals>.<lambda> at 0x103f14158>\n",
      "[3, 7, 13]\n"
     ]
    }
   ],
   "source": [
    "#a=[1,2,3,4]\n",
    "b=[5,4,7]\n",
    "\n",
    "def g(a,b,c):\n",
    "    return lambda x:a+b*x+c*(x*x) \n",
    "\n",
    "v=g(1,1,1)\n",
    "print(v)\n",
    "\n",
    "c=[v(i) for i in range(1,4)]\n",
    "\n",
    "print(c)\n",
    "#c[i]=list(map(v[i],b))\n"
   ]
  },
  {
   "cell_type": "code",
   "execution_count": null,
   "metadata": {
    "collapsed": true
   },
   "outputs": [],
   "source": []
  }
 ],
 "metadata": {
  "kernelspec": {
   "display_name": "Python 3",
   "language": "python",
   "name": "python3"
  },
  "language_info": {
   "codemirror_mode": {
    "name": "ipython",
    "version": 3
   },
   "file_extension": ".py",
   "mimetype": "text/x-python",
   "name": "python",
   "nbconvert_exporter": "python",
   "pygments_lexer": "ipython3",
   "version": "3.6.3"
  }
 },
 "nbformat": 4,
 "nbformat_minor": 2
}
